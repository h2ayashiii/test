{
 "cells": [
  {
   "cell_type": "code",
   "execution_count": null,
   "source": [
    "import numpy as np\n",
    "from scipy.optimize import minimize\n",
    "\n",
    "\n",
    "def func(p):\n",
    "    x, y, z = p\n",
    "    res = -3 * x**3 - x**2 * y  - 1 / (x*y) - 3 * z + 20\n",
    "    return res\n",
    "\n",
    "\n",
    "def cond_ineq(p):\n",
    "    x, y, z = p\n",
    "    return x + y - z\n",
    "\n",
    "\n",
    "def cond_eq(p):\n",
    "    x, y, z = p\n",
    "    return x**2 + y**2 + 20\n",
    "\n",
    "bounds = ((-10, 30), (-10, 30), (-10, 30))\n",
    "conds = ({'type': 'ineq', 'fun': cond_ineq},\n",
    "         {'type': 'eq', 'fun': cond_eq})\n",
    "\n",
    "p0 = [5, 5, 5]  # 初期値\n",
    "o = minimize(func, p0, constraints=conds, bounds=bounds, method=\"SLSQP\")\n",
    "o"
   ],
   "outputs": [],
   "metadata": {}
  },
  {
   "cell_type": "code",
   "execution_count": null,
   "source": [
    "import pyomo.environ as pyo\n",
    "\n",
    "\n",
    "model = pyo.ConcreteModel(name=\"NLP sample\",\n",
    "                          doc=\"2 variables, 1 constraints\")\n",
    "model.x = pyo.Var([1,2], domain=pyo.NonNegativeReals) # 変数を定義\n",
    "model.OBJ = pyo.Objective(expr = model.x[1]**2 + model.x[2]**2,\n",
    "                          sense = pyo.minimize) # 目的関数を定義\n",
    "model.Constraint = pyo.Constraint(expr = model.x[1] * model.x[2] >= 1)\n",
    "\n",
    "# 制約条件を定義\n",
    "opt = pyo.SolverFactory('ipopt') # 最適化ソルバを設定\n",
    "res = opt.solve(model) # 最適化計算を実行\n",
    "\n",
    "print(f\"評価関数：{model.OBJ()}\")\n",
    "print(f\"x1: {model.x[1]()}\")\n",
    "print(f\"x2: {model.x[2]()}\")"
   ],
   "outputs": [],
   "metadata": {}
  },
  {
   "cell_type": "code",
   "execution_count": null,
   "source": [],
   "outputs": [],
   "metadata": {}
  }
 ],
 "metadata": {
  "orig_nbformat": 4,
  "language_info": {
   "name": "python",
   "version": "3.8.10",
   "mimetype": "text/x-python",
   "codemirror_mode": {
    "name": "ipython",
    "version": 3
   },
   "pygments_lexer": "ipython3",
   "nbconvert_exporter": "python",
   "file_extension": ".py"
  },
  "kernelspec": {
   "name": "python3",
   "display_name": "Python 3.8.10 64-bit ('env1': conda)"
  },
  "interpreter": {
   "hash": "b573b773d990453b156355dabcc433264ba9ff7e9dd5dd57161c573ec9d57f96"
  }
 },
 "nbformat": 4,
 "nbformat_minor": 2
}